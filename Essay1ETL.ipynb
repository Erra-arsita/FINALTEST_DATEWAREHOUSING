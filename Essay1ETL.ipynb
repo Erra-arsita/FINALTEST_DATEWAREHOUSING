{
  "nbformat": 4,
  "nbformat_minor": 0,
  "metadata": {
    "colab": {
      "provenance": []
    },
    "kernelspec": {
      "name": "python3",
      "display_name": "Python 3"
    },
    "language_info": {
      "name": "python"
    }
  },
  "cells": [
    {
      "cell_type": "code",
      "execution_count": null,
      "metadata": {
        "id": "Y-c4BjMWGqmV"
      },
      "outputs": [],
      "source": [
        "Sebagai seorang Data Engineer, kamu diberikan tugas untuk melakukan Web Scraping kumpulan berita dari suatu API.\n",
        "API URL: https://berita-indo-api-next.vercel.app/api/cnn-news/teknologi\n",
        "API Return Example:\n",
        " {\n",
        "\"message\": \"Result of type teknologi news in CNN News\",\n",
        "\"total\": 100,\n",
        "\"data\": [\n",
        "{\n",
        "\"title\": \"Oppo Bocorkan Find N3, Ponsel Lipat Saingan Samsung Fold\",\n",
        "\"link\": \"https://www.cnnindonesia.com/teknologi/20231106202324-206-1020734/oppo-bocorkan-find-n3-ponsel-lipat-saingan-samsung-fold\",\n",
        "\"contentSnippet\": \"Penampakan Oppo Find N3, potensial saingan Samsung Galaxy Fold, dibocorkan ke publik. Intip spesifikasinya.\",\n",
        "\"isoDate\": \"2023-11-06T14:29:47.000Z\",\n",
        "\"image\": {\n",
        "\"small\": \"https://akcdn.detik.net.id/visual/2023/11/06/oppo-find-n3-6_169.jpeg?w=360&q=90\",\n",
        "\"large\": \"https://akcdn.detik.net.id/visual/2023/11/06/oppo-find-n3-6_169.jpeg?w=360&q=100\"\n",
        "}\n",
        "}\n",
        "]\n",
        "}"
      ]
    },
    {
      "cell_type": "code",
      "source": [
        "-Buatlah API request untuk mendapatkan data return API berupa JSON seperti contoh di atas dengan menggunakan Python\n",
        "-Ambil value dari key ‘data’ dalam JSON, dan transformasi menjadi sebuah DataFrame\n",
        "-Transformasi data kolom ‘isoDate’ menjadi tipe data datetime\n",
        "-Aggregasi data berdasarkan kolom ‘creator’, serta urutkan berdasarkan jumlah berita terbanyak.\n",
        "Notes:\n",
        "    -Jumlah data dari contoh - contoh terlampir bisa berbeda dengan jumlah data yang kamu dapat\n",
        "    -Gunakan Google Colab untuk mengerjakan assignment ini\n",
        "    -Kamu bisa menggunakan library: requests, panda\n"
      ],
      "metadata": {
        "id": "ZrYwsUPEHGfo"
      },
      "execution_count": null,
      "outputs": []
    },
    {
      "cell_type": "code",
      "source": [
        "pip install requests pandas"
      ],
      "metadata": {
        "colab": {
          "base_uri": "https://localhost:8080/"
        },
        "id": "L6HcSDrLIbyZ",
        "outputId": "5a75ac17-6563-4b70-a1db-f2bc6949f78a"
      },
      "execution_count": null,
      "outputs": [
        {
          "output_type": "stream",
          "name": "stdout",
          "text": [
            "Requirement already satisfied: requests in /usr/local/lib/python3.10/dist-packages (2.31.0)\n",
            "Requirement already satisfied: pandas in /usr/local/lib/python3.10/dist-packages (1.5.3)\n",
            "Requirement already satisfied: charset-normalizer<4,>=2 in /usr/local/lib/python3.10/dist-packages (from requests) (3.3.2)\n",
            "Requirement already satisfied: idna<4,>=2.5 in /usr/local/lib/python3.10/dist-packages (from requests) (3.4)\n",
            "Requirement already satisfied: urllib3<3,>=1.21.1 in /usr/local/lib/python3.10/dist-packages (from requests) (2.0.7)\n",
            "Requirement already satisfied: certifi>=2017.4.17 in /usr/local/lib/python3.10/dist-packages (from requests) (2023.7.22)\n",
            "Requirement already satisfied: python-dateutil>=2.8.1 in /usr/local/lib/python3.10/dist-packages (from pandas) (2.8.2)\n",
            "Requirement already satisfied: pytz>=2020.1 in /usr/local/lib/python3.10/dist-packages (from pandas) (2023.3.post1)\n",
            "Requirement already satisfied: numpy>=1.21.0 in /usr/local/lib/python3.10/dist-packages (from pandas) (1.23.5)\n",
            "Requirement already satisfied: six>=1.5 in /usr/local/lib/python3.10/dist-packages (from python-dateutil>=2.8.1->pandas) (1.16.0)\n"
          ]
        }
      ]
    },
    {
      "cell_type": "code",
      "source": [
        "import requests\n",
        "import pandas as pd"
      ],
      "metadata": {
        "id": "ObwIURA6Hvco"
      },
      "execution_count": null,
      "outputs": []
    },
    {
      "cell_type": "code",
      "source": [
        "api_url = \"https://berita-indo-api-next.vercel.app/api/cnn-news/teknologi\"\n",
        "response = requests.get(api_url)\n"
      ],
      "metadata": {
        "id": "3bZ5ruhPH2_f"
      },
      "execution_count": null,
      "outputs": []
    },
    {
      "cell_type": "code",
      "source": [
        "if response.status_code == 200:\n",
        "  json_data = response.json()\n",
        "  news_data = json_data.get('data', [])\n"
      ],
      "metadata": {
        "id": "Q6jMGDGKIDm0"
      },
      "execution_count": null,
      "outputs": []
    },
    {
      "cell_type": "code",
      "source": [
        "if news_data:\n",
        "        df = pd.DataFrame(news_data)\n",
        "        print(df)\n",
        "    else:\n",
        "        print(\"Tidak ada data berita.\")\n",
        "else:\n",
        "    print(f\"Error: {response.status_code}\")"
      ],
      "metadata": {
        "id": "RzfX4n2bKT2w"
      },
      "execution_count": null,
      "outputs": []
    },
    {
      "cell_type": "code",
      "source": [
        "df['isoDate'] = pd.to_datetime(df['isoDate'])"
      ],
      "metadata": {
        "id": "0MouITiNMjiO"
      },
      "execution_count": null,
      "outputs": []
    },
    {
      "cell_type": "code",
      "source": [
        "aggregated_data = df.groupby('creator').size().reset_index(name='jumlah_berita')\n",
        "aggregated_data = df.groupby('creator')['isoDate'].max().reset_index(name='tanggal_terbaru')\n",
        "aggregated_data = df.groupby('creator')['wordCount'].mean().reset_index(name='rata_rata_kata')\n"
      ],
      "metadata": {
        "id": "xhqoHvd3MNZ6"
      },
      "execution_count": null,
      "outputs": []
    },
    {
      "cell_type": "code",
      "source": [
        "aggregated_data = df.groupby('creator').agg({'isoDate': 'max', 'headline': 'count'}).reset_index()\n",
        "aggregated_data.columns = ['creator', 'tanggal_terbaru', 'jumlah_berita']\n"
      ],
      "metadata": {
        "id": "Y6UFVrCaNUSN"
      },
      "execution_count": null,
      "outputs": []
    },
    {
      "cell_type": "code",
      "source": [
        "sorted_data = aggregated_data.sort_values(by='jumlah_berita', ascending=False)\n",
        "  print(sorted_data)"
      ],
      "metadata": {
        "id": "vVa6aJKCMVMJ"
      },
      "execution_count": null,
      "outputs": []
    }
  ]
}